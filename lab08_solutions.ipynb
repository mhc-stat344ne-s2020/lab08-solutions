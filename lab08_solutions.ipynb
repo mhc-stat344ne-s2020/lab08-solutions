{
  "nbformat": 4,
  "nbformat_minor": 0,
  "metadata": {
    "colab": {
      "name": "lab08-solutions.ipynb",
      "provenance": [],
      "collapsed_sections": []
    },
    "kernelspec": {
      "name": "python3",
      "display_name": "Python 3"
    },
    "accelerator": "GPU"
  },
  "cells": [
    {
      "cell_type": "markdown",
      "metadata": {
        "id": "MJ6UU3Ay8vdZ",
        "colab_type": "text"
      },
      "source": [
        "# Introduction\n",
        "\n",
        "In this lab we will basically recreate the running example in Section 6.3 of Chollet.  The example is about forecasting the temperature using neural network models.  We'll use weather data from South Hadley instead of the data from Germany used in the book.  This is kindof a silly example (I think noone would really use a neural network for this; weather forecasting is done with differential equations models), but it illustrates the ideas.\n",
        "\n",
        "The ideas we'll use are:\n",
        "\n",
        " * A baseline RNN\n",
        " * LSTM\n",
        " * GRU\n",
        "\n",
        "# Imports"
      ]
    },
    {
      "cell_type": "code",
      "metadata": {
        "id": "xyD5alyF8gzw",
        "colab_type": "code",
        "colab": {}
      },
      "source": [
        "import pandas as pd\n",
        "import numpy as np\n",
        "from keras import models\n",
        "from keras import layers\n",
        "import matplotlib.pyplot as plt"
      ],
      "execution_count": 0,
      "outputs": []
    },
    {
      "cell_type": "markdown",
      "metadata": {
        "id": "8oMRSFieJ9Md",
        "colab_type": "text"
      },
      "source": [
        "# Data Preprocessing\n",
        "Here's a look at the data set, after filtering to data since the year 1970 and keeping only the variables we will use."
      ]
    },
    {
      "cell_type": "code",
      "metadata": {
        "id": "uL4LdTtiB1w_",
        "colab_type": "code",
        "colab": {}
      },
      "source": [
        "weather = pd.read_csv(\"http://www.evanlray.com/data/misc/south_hadley_weather/daily_weather.csv\")\n",
        "vars_to_keep = ['temp_avg_F', 'dew_pt_avg_F', 'humidity_avg_pct',\n",
        "                'sea_level_press_avg_in', 'wind_avg_mph',\n",
        "                'precipitation_in']\n",
        "weather = weather.loc[:, vars_to_keep]"
      ],
      "execution_count": 0,
      "outputs": []
    },
    {
      "cell_type": "code",
      "metadata": {
        "id": "rA4q8D6aIMEH",
        "colab_type": "code",
        "outputId": "9776a466-58cc-42d3-afa4-eb553f6ca9fe",
        "colab": {
          "base_uri": "https://localhost:8080/",
          "height": 206
        }
      },
      "source": [
        "weather.head()"
      ],
      "execution_count": 0,
      "outputs": [
        {
          "output_type": "execute_result",
          "data": {
            "text/html": [
              "<div>\n",
              "<style scoped>\n",
              "    .dataframe tbody tr th:only-of-type {\n",
              "        vertical-align: middle;\n",
              "    }\n",
              "\n",
              "    .dataframe tbody tr th {\n",
              "        vertical-align: top;\n",
              "    }\n",
              "\n",
              "    .dataframe thead th {\n",
              "        text-align: right;\n",
              "    }\n",
              "</style>\n",
              "<table border=\"1\" class=\"dataframe\">\n",
              "  <thead>\n",
              "    <tr style=\"text-align: right;\">\n",
              "      <th></th>\n",
              "      <th>temp_avg_F</th>\n",
              "      <th>dew_pt_avg_F</th>\n",
              "      <th>humidity_avg_pct</th>\n",
              "      <th>sea_level_press_avg_in</th>\n",
              "      <th>wind_avg_mph</th>\n",
              "      <th>precipitation_in</th>\n",
              "    </tr>\n",
              "  </thead>\n",
              "  <tbody>\n",
              "    <tr>\n",
              "      <th>0</th>\n",
              "      <td>40.0</td>\n",
              "      <td>31.0</td>\n",
              "      <td>64.0</td>\n",
              "      <td>29.81</td>\n",
              "      <td>2.0</td>\n",
              "      <td>0.0</td>\n",
              "    </tr>\n",
              "    <tr>\n",
              "      <th>1</th>\n",
              "      <td>40.0</td>\n",
              "      <td>24.0</td>\n",
              "      <td>51.0</td>\n",
              "      <td>29.75</td>\n",
              "      <td>9.0</td>\n",
              "      <td>0.0</td>\n",
              "    </tr>\n",
              "    <tr>\n",
              "      <th>2</th>\n",
              "      <td>47.0</td>\n",
              "      <td>26.0</td>\n",
              "      <td>41.0</td>\n",
              "      <td>29.97</td>\n",
              "      <td>6.0</td>\n",
              "      <td>0.0</td>\n",
              "    </tr>\n",
              "    <tr>\n",
              "      <th>3</th>\n",
              "      <td>47.0</td>\n",
              "      <td>25.0</td>\n",
              "      <td>38.0</td>\n",
              "      <td>30.15</td>\n",
              "      <td>2.0</td>\n",
              "      <td>0.0</td>\n",
              "    </tr>\n",
              "    <tr>\n",
              "      <th>4</th>\n",
              "      <td>42.0</td>\n",
              "      <td>30.0</td>\n",
              "      <td>61.0</td>\n",
              "      <td>29.99</td>\n",
              "      <td>5.0</td>\n",
              "      <td>0.0</td>\n",
              "    </tr>\n",
              "  </tbody>\n",
              "</table>\n",
              "</div>"
            ],
            "text/plain": [
              "   temp_avg_F  dew_pt_avg_F  ...  wind_avg_mph  precipitation_in\n",
              "0        40.0          31.0  ...           2.0               0.0\n",
              "1        40.0          24.0  ...           9.0               0.0\n",
              "2        47.0          26.0  ...           6.0               0.0\n",
              "3        47.0          25.0  ...           2.0               0.0\n",
              "4        42.0          30.0  ...           5.0               0.0\n",
              "\n",
              "[5 rows x 6 columns]"
            ]
          },
          "metadata": {
            "tags": []
          },
          "execution_count": 40
        }
      ]
    },
    {
      "cell_type": "markdown",
      "metadata": {
        "id": "IVLrP1lG7ZBh",
        "colab_type": "text"
      },
      "source": [
        "Is there any missing data?"
      ]
    },
    {
      "cell_type": "code",
      "metadata": {
        "id": "UN4oiFiNd10s",
        "colab_type": "code",
        "outputId": "973b9218-cd28-40c7-c14b-cf9b6dce56ea",
        "colab": {
          "base_uri": "https://localhost:8080/",
          "height": 140
        }
      },
      "source": [
        "weather.isnull().sum()"
      ],
      "execution_count": 0,
      "outputs": [
        {
          "output_type": "execute_result",
          "data": {
            "text/plain": [
              "temp_avg_F                8\n",
              "dew_pt_avg_F              6\n",
              "humidity_avg_pct          6\n",
              "sea_level_press_avg_in    7\n",
              "wind_avg_mph              6\n",
              "precipitation_in          0\n",
              "dtype: int64"
            ]
          },
          "metadata": {
            "tags": []
          },
          "execution_count": 41
        }
      ]
    },
    {
      "cell_type": "markdown",
      "metadata": {
        "id": "7SMhyOmd7bih",
        "colab_type": "text"
      },
      "source": [
        "Yes, there is missing data.  The following function fills in missing values wtih the previous observed value for that variable in the data set."
      ]
    },
    {
      "cell_type": "code",
      "metadata": {
        "id": "gzq9byG4s7_C",
        "colab_type": "code",
        "colab": {}
      },
      "source": [
        "weather = weather.fillna(method='pad')"
      ],
      "execution_count": 0,
      "outputs": []
    },
    {
      "cell_type": "code",
      "metadata": {
        "id": "P5I1Tcw0tYHr",
        "colab_type": "code",
        "outputId": "d9573b12-f100-4e33-c827-1d56fb4da673",
        "colab": {
          "base_uri": "https://localhost:8080/",
          "height": 140
        }
      },
      "source": [
        "weather.isnull().sum()"
      ],
      "execution_count": 0,
      "outputs": [
        {
          "output_type": "execute_result",
          "data": {
            "text/plain": [
              "temp_avg_F                0\n",
              "dew_pt_avg_F              0\n",
              "humidity_avg_pct          0\n",
              "sea_level_press_avg_in    0\n",
              "wind_avg_mph              0\n",
              "precipitation_in          0\n",
              "dtype: int64"
            ]
          },
          "metadata": {
            "tags": []
          },
          "execution_count": 43
        }
      ]
    },
    {
      "cell_type": "markdown",
      "metadata": {
        "id": "R9GQUPbH7jjV",
        "colab_type": "text"
      },
      "source": [
        "All better :)  Let's convert from a pandas data frame to a numpy array."
      ]
    },
    {
      "cell_type": "code",
      "metadata": {
        "id": "eYxfD0uySVcH",
        "colab_type": "code",
        "outputId": "34cefe26-e8af-4907-909d-3b3618303fc3",
        "colab": {
          "base_uri": "https://localhost:8080/",
          "height": 166
        }
      },
      "source": [
        "weather = weather.to_numpy()"
      ],
      "execution_count": 0,
      "outputs": [
        {
          "output_type": "error",
          "ename": "AttributeError",
          "evalue": "ignored",
          "traceback": [
            "\u001b[0;31m---------------------------------------------------------------------------\u001b[0m",
            "\u001b[0;31mAttributeError\u001b[0m                            Traceback (most recent call last)",
            "\u001b[0;32m<ipython-input-47-291e915d9588>\u001b[0m in \u001b[0;36m<module>\u001b[0;34m()\u001b[0m\n\u001b[0;32m----> 1\u001b[0;31m \u001b[0mweather\u001b[0m \u001b[0;34m=\u001b[0m \u001b[0mweather\u001b[0m\u001b[0;34m.\u001b[0m\u001b[0mto_numpy\u001b[0m\u001b[0;34m(\u001b[0m\u001b[0;34m)\u001b[0m\u001b[0;34m\u001b[0m\u001b[0;34m\u001b[0m\u001b[0m\n\u001b[0m",
            "\u001b[0;31mAttributeError\u001b[0m: 'numpy.ndarray' object has no attribute 'to_numpy'"
          ]
        }
      ]
    },
    {
      "cell_type": "markdown",
      "metadata": {
        "id": "HHpR_gVvMELT",
        "colab_type": "text"
      },
      "source": [
        "Here is a plot of the daily average temperature (in degrees F) since 1940.  To be able to see the patterns more clearly, I have split the data up over two subplots."
      ]
    },
    {
      "cell_type": "code",
      "metadata": {
        "id": "XTq-wHmI7DMD",
        "colab_type": "code",
        "outputId": "dc0024e5-6703-487b-d615-935ea842201f",
        "colab": {
          "base_uri": "https://localhost:8080/",
          "height": 35
        }
      },
      "source": [
        "len(weather)/2"
      ],
      "execution_count": 0,
      "outputs": [
        {
          "output_type": "execute_result",
          "data": {
            "text/plain": [
              "13992.0"
            ]
          },
          "metadata": {
            "tags": []
          },
          "execution_count": 48
        }
      ]
    },
    {
      "cell_type": "code",
      "metadata": {
        "id": "AiGdp0PIIN3W",
        "colab_type": "code",
        "outputId": "b930be61-4ab7-4562-f24a-9c44c3735537",
        "colab": {
          "base_uri": "https://localhost:8080/",
          "height": 718
        }
      },
      "source": [
        "fig, ax = plt.subplots(2, 1, figsize = (18, 12))\n",
        "ax[0].plot(weather[:13992, 0])\n",
        "ax[1].plot(weather[13992:, 0])"
      ],
      "execution_count": 0,
      "outputs": [
        {
          "output_type": "execute_result",
          "data": {
            "text/plain": [
              "[<matplotlib.lines.Line2D at 0x7fa447e4df98>]"
            ]
          },
          "metadata": {
            "tags": []
          },
          "execution_count": 49
        },
        {
          "output_type": "display_data",
          "data": {
            "image/png": "[encoded data removed]",
            "text/plain": [
              "<Figure size 1296x864 with 2 Axes>"
            ]
          },
          "metadata": {
            "tags": []
          }
        }
      ]
    },
    {
      "cell_type": "markdown",
      "metadata": {
        "id": "BaxTGwxGMMfo",
        "colab_type": "text"
      },
      "source": [
        "In figure above the most salient characteristic is annual cycles in temperatures across seasons.\n",
        "\n",
        "If we do short-term predictions (e.g. using data from the last 30 days to predict temperature in the next day), these seasonal cycles are relevant, not not useful to our model.  Here is a plot of the daily average temperature for just the last 30 days in the data set to see what kinds of dynamics our model will actually be able to use:"
      ]
    },
    {
      "cell_type": "code",
      "metadata": {
        "id": "BiNE9r79Lvvf",
        "colab_type": "code",
        "outputId": "9b70439e-99a0-49e3-894e-2446e680731c",
        "colab": {
          "base_uri": "https://localhost:8080/",
          "height": 392
        }
      },
      "source": [
        "fig, ax = plt.subplots(1, 1, figsize = (18, 6))\n",
        "ax.plot(weather[-30:, 0])"
      ],
      "execution_count": 0,
      "outputs": [
        {
          "output_type": "execute_result",
          "data": {
            "text/plain": [
              "[<matplotlib.lines.Line2D at 0x7fa447dde7b8>]"
            ]
          },
          "metadata": {
            "tags": []
          },
          "execution_count": 51
        },
        {
          "output_type": "display_data",
          "data": {
            "image/png": "[encoded data removed]",
            "text/plain": [
              "<Figure size 1296x432 with 1 Axes>"
            ]
          },
          "metadata": {
            "tags": []
          }
        }
      ]
    },
    {
      "cell_type": "markdown",
      "metadata": {
        "id": "f1Gj_rFhLURE",
        "colab_type": "text"
      },
      "source": [
        "We will explore models that use dew point, humidity, sea level pressure, visibility, wind speed, and precipitation in past 10 days to predict the temperature for the next day.\n",
        "\n",
        "#### Approach to train/validation/test split\n",
        "\n",
        " * Rather than getting a random split, with time series data it's common to divide the data into contiguous blocks, with the train set being the beginning of the time series, the validation set next, and the test set last.  In this way, you never look at \"future\" data as part of the training or validation set.\n",
        " * We'll use the first 16896 observations (evenly divisible by a batch size of 128, about 60% of the data set) for the training set, the next 5632 (divisible by 128, about 20% of the data set) for the validation set, and the final 5456 observations for the test set.\n",
        " * Rather than explicitly splitting the data, we'll keep track of these indices and create a generator for each data set that knows about the data set it should use.\n",
        "\n",
        "#### Standardize input features\n",
        "\n",
        "We need to standardize the explanatory variables, as usual."
      ]
    },
    {
      "cell_type": "code",
      "metadata": {
        "id": "qN_sUbF4PgBE",
        "colab_type": "code",
        "outputId": "82213f75-d5b7-4e6b-af43-4dcfa8a00926",
        "colab": {
          "base_uri": "https://localhost:8080/",
          "height": 35
        }
      },
      "source": [
        "weather.shape"
      ],
      "execution_count": 0,
      "outputs": [
        {
          "output_type": "execute_result",
          "data": {
            "text/plain": [
              "(27984, 7)"
            ]
          },
          "metadata": {
            "tags": []
          },
          "execution_count": 7
        }
      ]
    },
    {
      "cell_type": "code",
      "metadata": {
        "id": "9ozKyGa1PwtC",
        "colab_type": "code",
        "outputId": "be124f99-c977-4ecf-bd93-ab67ba164edf",
        "colab": {
          "base_uri": "https://localhost:8080/",
          "height": 52
        }
      },
      "source": [
        "print(27984 * .6)\n",
        "print(27984 * .8)"
      ],
      "execution_count": 0,
      "outputs": [
        {
          "output_type": "stream",
          "text": [
            "16790.399999999998\n",
            "22387.2\n"
          ],
          "name": "stdout"
        }
      ]
    },
    {
      "cell_type": "code",
      "metadata": {
        "id": "gulokYkOSAGO",
        "colab_type": "code",
        "colab": {}
      },
      "source": [
        "# when standardizing, calculate the mean and standard deviation based on\n",
        "# only the training set, but standardize the full data set.\n",
        "train_mean = weather[:16896, 1:].mean(axis=0)\n",
        "weather[:, 1:] = weather[:, 1:] - train_mean\n",
        "train_std = weather[:16896, 1:].std(axis=0)\n",
        "weather[:, 1:] = weather[:, 1:] / train_std"
      ],
      "execution_count": 0,
      "outputs": []
    },
    {
      "cell_type": "markdown",
      "metadata": {
        "id": "sXGhPl9_Ajr4",
        "colab_type": "text"
      },
      "source": [
        "## Generators\n",
        "\n",
        "We define generators for batches of observations.  This code is straight from the book.  Here are highlights:\n",
        "\n",
        " * lookback is how many days of past data we will use to predict the next day.  (We set this to 30 when calling the generator below)\n",
        " * delay is the number of days into the future we want to predict\n",
        " * min_index and max_index define the start and end points for the data set (i.e., if this will be a generator for the validation set, where are the starting and ending indices for the validation set?)\n",
        " * shuffle is a boolean saying whether we want the data to be yielded in a random order when assembling batches.  This can be important for the training set when the order of the data is meaningful.\n",
        " * batch_size is the batch size\n",
        " * step is not really meaningful for our data set."
      ]
    },
    {
      "cell_type": "code",
      "metadata": {
        "id": "j-S7JlOGRHSf",
        "colab_type": "code",
        "colab": {}
      },
      "source": [
        "def generator(data, lookback, delay, min_index, max_index,\n",
        "              shuffle=False, batch_size=128, step=1):\n",
        "    if max_index is None:\n",
        "        max_index = len(data) - delay - 1\n",
        "    i = min_index + lookback\n",
        "    while 1:\n",
        "        if shuffle:\n",
        "            rows = np.random.randint(\n",
        "                min_index + lookback, max_index, size=batch_size)\n",
        "        else:\n",
        "            if i + batch_size >= max_index:\n",
        "                i = min_index + lookback\n",
        "            rows = np.arange(i, min(i + batch_size, max_index))\n",
        "            i += len(rows)\n",
        "\n",
        "        samples = np.zeros((len(rows),\n",
        "                           lookback // step,\n",
        "                           data.shape[-1]))\n",
        "        targets = np.zeros((len(rows),))\n",
        "        for j, row in enumerate(rows):\n",
        "            indices = range(rows[j] - lookback, rows[j], step)\n",
        "            samples[j] = data[indices]\n",
        "            targets[j] = data[rows[j] + delay][0]\n",
        "        yield samples, targets"
      ],
      "execution_count": 0,
      "outputs": []
    },
    {
      "cell_type": "code",
      "metadata": {
        "id": "ezCgXA8wVHlE",
        "colab_type": "code",
        "colab": {}
      },
      "source": [
        "train_gen = generator(weather,\n",
        "                      lookback=30,\n",
        "                      delay=1,\n",
        "                      min_index=0,\n",
        "                      max_index=16896,\n",
        "                      shuffle=True,\n",
        "                      step=1,\n",
        "                      batch_size=128)\n",
        "val_gen = generator(weather,\n",
        "                    lookback=30,\n",
        "                    delay=1,\n",
        "                    min_index=16897,\n",
        "                    max_index=22528,\n",
        "                    shuffle=False,\n",
        "                    step=1,\n",
        "                    batch_size=128)\n",
        "test_gen = generator(weather,\n",
        "                     lookback=30,\n",
        "                     delay=1,\n",
        "                     min_index=22529,\n",
        "                     max_index=None,\n",
        "                     shuffle=False,\n",
        "                     step=1,\n",
        "                     batch_size=128)\n",
        "\n",
        "train_steps = (16896 - lookback) // batch_size\n",
        "val_steps = (22528 - 16897 - lookback) // batch_size\n",
        "tes_steps = (len(weather) - 22528 - lookback) // batch_size"
      ],
      "execution_count": 0,
      "outputs": []
    },
    {
      "cell_type": "markdown",
      "metadata": {
        "id": "LztzmogBC93N",
        "colab_type": "text"
      },
      "source": [
        "# Baseline Approaches\n",
        "\n",
        "Let's consider two baseline models that don't use the time structure of the data fully.  This will let us really understand how useful accounting for time structure with an RNN is.\n",
        "\n",
        "## Baseline 1: Predict most recent day's temperature\n",
        "\n",
        "With this approach, we just use the most recent day's temperature to predict the next day's temperature.  This is clearly not the best possible model, but it shows what a simple approach can do, and gives us a number to beat.\n",
        "\n",
        "To do this, we:\n",
        " * Generate a validation set batch (we will be comparing validation set performance of methods). The X for each batch is of shape (batch_size, T, p), and the y is of shape (batch_size,)\n",
        " * Extract the predicted values as `preds = X[:, -1, 0]`\n",
        "    * From every observation 1 through batch_size (first :)\n",
        "    * Last time point (-1 for second index)\n",
        "    * \"feature\" at index 0 in our data set is temperature\n",
        " * Calculate the vector of differences `preds - y`\n",
        " * Calculate the absolute value of these differences\n",
        " * Aggregate the absolute errors across all batches\n",
        " * Take the mean absolute error (MAE)\n",
        "\n",
        "Mean absolute error is $MAE = \\sum_{i = 1}^m |\\hat{y}_i - y_i|$.  This is sometimes used instead of MSE or RMSE because it's a little more interpretable.  It also penalizes \"very wrong\" predictions less than MSE."
      ]
    },
    {
      "cell_type": "code",
      "metadata": {
        "id": "Pjcvn6ApUt3q",
        "colab_type": "code",
        "outputId": "4ab93d4a-de7b-4686-bed9-9f5735c58cbe",
        "colab": {
          "base_uri": "https://localhost:8080/",
          "height": 35
        }
      },
      "source": [
        "batch_maes = []\n",
        "for step in range(val_steps):\n",
        "    X, y = next(val_gen)\n",
        "    preds = X[:, -1, 0]\n",
        "    mae = np.mean(np.abs(preds - y))\n",
        "    batch_maes.append(mae)\n",
        "print(np.mean(batch_maes))"
      ],
      "execution_count": 0,
      "outputs": [
        {
          "output_type": "stream",
          "text": [
            "7.280341569767442\n"
          ],
          "name": "stdout"
        }
      ]
    },
    {
      "cell_type": "markdown",
      "metadata": {
        "id": "amzlJNpKIEo9",
        "colab_type": "text"
      },
      "source": [
        "On average, this basic approach to prediction is off by a little over 7 degrees F."
      ]
    },
    {
      "cell_type": "markdown",
      "metadata": {
        "id": "0a5JdSrxG7vu",
        "colab_type": "text"
      },
      "source": [
        "### Baseline 2: \"Static\" dense neural network\n",
        "\n",
        "We'll fit a basic neural network with one dense hidden layer of 32 units using a relu activation.\n",
        "\n",
        "The one thing that's tricky is that our features are organized in the shape (batch_size, T, p).  A dense layer expects a vector as input, not a 2-dimensional array.  Therefore, the first layer of our network must be a flatten layer."
      ]
    },
    {
      "cell_type": "code",
      "metadata": {
        "id": "B5rSjh_EW6TP",
        "colab_type": "code",
        "colab": {}
      },
      "source": [
        "samples, targets = next(val_gen)"
      ],
      "execution_count": 0,
      "outputs": []
    },
    {
      "cell_type": "code",
      "metadata": {
        "id": "GcWGUiwtXI3i",
        "colab_type": "code",
        "outputId": "210215ed-be3e-4330-b94c-98cf0ff8235d",
        "colab": {
          "base_uri": "https://localhost:8080/",
          "height": 1000
        }
      },
      "source": [
        "static_model = models.Sequential()\n",
        "static_model.add(layers.Flatten(input_shape=(lookback, weather.shape[-1])))\n",
        "static_model.add(layers.Dense(32, activation='relu'))\n",
        "static_model.add(layers.Dense(1))\n",
        "\n",
        "static_model.compile(optimizer='rmsprop', loss='mae')\n",
        "static_history = static_model.fit_generator(train_gen,\n",
        "                              steps_per_epoch=train_steps,\n",
        "                              epochs=40,\n",
        "                              validation_data=val_gen,\n",
        "                              validation_steps=val_steps)"
      ],
      "execution_count": 0,
      "outputs": [
        {
          "output_type": "stream",
          "text": [
            "Epoch 1/40\n",
            "131/131 [==============================] - 2s 18ms/step - loss: 7.2360 - val_loss: 7.0131\n",
            "Epoch 2/40\n",
            "131/131 [==============================] - 1s 7ms/step - loss: 6.5606 - val_loss: 6.9317\n",
            "Epoch 3/40\n",
            "131/131 [==============================] - 1s 7ms/step - loss: 6.4023 - val_loss: 6.7966\n",
            "Epoch 4/40\n",
            "131/131 [==============================] - 1s 7ms/step - loss: 6.3441 - val_loss: 6.5505\n",
            "Epoch 5/40\n",
            "131/131 [==============================] - 1s 7ms/step - loss: 6.2353 - val_loss: 7.5695\n",
            "Epoch 6/40\n",
            "131/131 [==============================] - 1s 7ms/step - loss: 6.0918 - val_loss: 6.6926\n",
            "Epoch 7/40\n",
            "131/131 [==============================] - 1s 7ms/step - loss: 6.0759 - val_loss: 6.3674\n",
            "Epoch 8/40\n",
            "131/131 [==============================] - 1s 7ms/step - loss: 6.1025 - val_loss: 6.3329\n",
            "Epoch 9/40\n",
            "131/131 [==============================] - 1s 8ms/step - loss: 6.0064 - val_loss: 6.6614\n",
            "Epoch 10/40\n",
            "131/131 [==============================] - 1s 7ms/step - loss: 5.9868 - val_loss: 6.1494\n",
            "Epoch 11/40\n",
            "131/131 [==============================] - 1s 7ms/step - loss: 6.0206 - val_loss: 6.5311\n",
            "Epoch 12/40\n",
            "131/131 [==============================] - 1s 7ms/step - loss: 5.9427 - val_loss: 6.3741\n",
            "Epoch 13/40\n",
            "131/131 [==============================] - 1s 7ms/step - loss: 5.9656 - val_loss: 6.1100\n",
            "Epoch 14/40\n",
            "131/131 [==============================] - 1s 7ms/step - loss: 5.8881 - val_loss: 6.3657\n",
            "Epoch 15/40\n",
            "131/131 [==============================] - 1s 7ms/step - loss: 5.9497 - val_loss: 6.0825\n",
            "Epoch 16/40\n",
            "131/131 [==============================] - 1s 8ms/step - loss: 5.8890 - val_loss: 6.4209\n",
            "Epoch 17/40\n",
            "131/131 [==============================] - 1s 7ms/step - loss: 5.9007 - val_loss: 6.2266\n",
            "Epoch 18/40\n",
            "131/131 [==============================] - 1s 7ms/step - loss: 5.8548 - val_loss: 6.0708\n",
            "Epoch 19/40\n",
            "131/131 [==============================] - 1s 7ms/step - loss: 5.8654 - val_loss: 6.1092\n",
            "Epoch 20/40\n",
            "131/131 [==============================] - 1s 7ms/step - loss: 5.7554 - val_loss: 6.3218\n",
            "Epoch 21/40\n",
            "131/131 [==============================] - 1s 8ms/step - loss: 5.7723 - val_loss: 6.1975\n",
            "Epoch 22/40\n",
            "131/131 [==============================] - 1s 7ms/step - loss: 5.7846 - val_loss: 6.8720\n",
            "Epoch 23/40\n",
            "131/131 [==============================] - 1s 7ms/step - loss: 5.8095 - val_loss: 6.8133\n",
            "Epoch 24/40\n",
            "131/131 [==============================] - 1s 7ms/step - loss: 5.8124 - val_loss: 6.6838\n",
            "Epoch 25/40\n",
            "131/131 [==============================] - 1s 7ms/step - loss: 5.7694 - val_loss: 6.3767\n",
            "Epoch 26/40\n",
            "131/131 [==============================] - 1s 7ms/step - loss: 5.7110 - val_loss: 6.0858\n",
            "Epoch 27/40\n",
            "131/131 [==============================] - 1s 7ms/step - loss: 5.7472 - val_loss: 6.2385\n",
            "Epoch 28/40\n",
            "131/131 [==============================] - 1s 7ms/step - loss: 5.7509 - val_loss: 6.1156\n",
            "Epoch 29/40\n",
            "131/131 [==============================] - 1s 7ms/step - loss: 5.6557 - val_loss: 6.1213\n",
            "Epoch 30/40\n",
            "131/131 [==============================] - 1s 7ms/step - loss: 5.6707 - val_loss: 6.1516\n",
            "Epoch 31/40\n",
            "131/131 [==============================] - 1s 7ms/step - loss: 5.7302 - val_loss: 6.1563\n",
            "Epoch 32/40\n",
            "131/131 [==============================] - 1s 7ms/step - loss: 5.7413 - val_loss: 6.2826\n",
            "Epoch 33/40\n",
            "131/131 [==============================] - 1s 7ms/step - loss: 5.6668 - val_loss: 6.5067\n",
            "Epoch 34/40\n",
            "131/131 [==============================] - 1s 7ms/step - loss: 5.6498 - val_loss: 6.2111\n",
            "Epoch 35/40\n",
            "131/131 [==============================] - 1s 7ms/step - loss: 5.5576 - val_loss: 6.4674\n",
            "Epoch 36/40\n",
            "131/131 [==============================] - 1s 7ms/step - loss: 5.6658 - val_loss: 6.2153\n",
            "Epoch 37/40\n",
            "131/131 [==============================] - 1s 7ms/step - loss: 5.5931 - val_loss: 6.2583\n",
            "Epoch 38/40\n",
            "131/131 [==============================] - 1s 7ms/step - loss: 5.5768 - val_loss: 6.6802\n",
            "Epoch 39/40\n",
            "131/131 [==============================] - 1s 7ms/step - loss: 5.6054 - val_loss: 6.1555\n",
            "Epoch 40/40\n",
            "131/131 [==============================] - 1s 7ms/step - loss: 5.5553 - val_loss: 6.3052\n"
          ],
          "name": "stdout"
        }
      ]
    },
    {
      "cell_type": "code",
      "metadata": {
        "id": "7KURmtyRH19l",
        "colab_type": "code",
        "outputId": "bab868cf-1718-490c-ec48-996c0dbc0aae",
        "colab": {
          "base_uri": "https://localhost:8080/",
          "height": 281
        }
      },
      "source": [
        "loss = static_history.history['loss']\n",
        "val_loss = static_history.history['val_loss']\n",
        "\n",
        "epochs = range(1, len(loss) + 1)\n",
        "\n",
        "plt.figure()\n",
        "\n",
        "plt.plot(epochs, loss, label='Training loss')\n",
        "plt.plot(epochs, val_loss, label='Validation loss')\n",
        "plt.title('Training and validation loss')\n",
        "plt.legend()\n",
        "\n",
        "plt.show()"
      ],
      "execution_count": 0,
      "outputs": [
        {
          "output_type": "display_data",
          "data": {
            "image/png": "[encoded data removed]",
            "text/plain": [
              "<Figure size 432x288 with 1 Axes>"
            ]
          },
          "metadata": {
            "tags": []
          }
        }
      ]
    },
    {
      "cell_type": "markdown",
      "metadata": {
        "id": "semCYYvmIAh0",
        "colab_type": "text"
      },
      "source": [
        "This basic neural network is better than just predicting the most recent day's temperature, reducing mean absolute error by about 1 degree F."
      ]
    },
    {
      "cell_type": "markdown",
      "metadata": {
        "id": "jn_0fmC2IXR9",
        "colab_type": "text"
      },
      "source": [
        "# Recurrent Network Architectures\n",
        "\n",
        "### 1. SimpleRNN\n",
        "\n",
        "Let's start with a SimpleRNN.  Add a SimpleRNN layer to the network with 32 units and `input_shape = (None, weather.shape[-1])`  (You could also specify the number of time points per sequence as the first dimension of the input if you want, but this is not necessary.)"
      ]
    },
    {
      "cell_type": "code",
      "metadata": {
        "id": "9DcmExkk1k3V",
        "colab_type": "code",
        "outputId": "f114d7fe-f3cc-4fe2-ecbd-2a6c6d636052",
        "colab": {
          "base_uri": "https://localhost:8080/",
          "height": 1000
        }
      },
      "source": [
        "rnn_model = models.Sequential()\n",
        "rnn_model.add(layers.SimpleRNN(32, input_shape=(None, weather.shape[-1])))\n",
        "rnn_model.add(layers.Dense(1))\n",
        "\n",
        "rnn_model.compile(optimizer='rmsprop', loss='mae')\n",
        "rnn_history = rnn_model.fit_generator(train_gen,\n",
        "                              steps_per_epoch=train_steps,\n",
        "                              epochs=40,\n",
        "                              validation_data=val_gen,\n",
        "                              validation_steps=val_steps)"
      ],
      "execution_count": 0,
      "outputs": [
        {
          "output_type": "stream",
          "text": [
            "Epoch 1/40\n",
            "131/131 [==============================] - 3s 24ms/step - loss: 43.9387 - val_loss: 40.8594\n",
            "Epoch 2/40\n",
            "131/131 [==============================] - 2s 12ms/step - loss: 38.8928 - val_loss: 36.4083\n",
            "Epoch 3/40\n",
            "131/131 [==============================] - 2s 11ms/step - loss: 34.6175 - val_loss: 32.1983\n",
            "Epoch 4/40\n",
            "131/131 [==============================] - 2s 12ms/step - loss: 30.4704 - val_loss: 28.3554\n",
            "Epoch 5/40\n",
            "131/131 [==============================] - 2s 12ms/step - loss: 26.6928 - val_loss: 24.8085\n",
            "Epoch 6/40\n",
            "131/131 [==============================] - 2s 12ms/step - loss: 23.4511 - val_loss: 21.6412\n",
            "Epoch 7/40\n",
            "131/131 [==============================] - 2s 12ms/step - loss: 20.4363 - val_loss: 18.7509\n",
            "Epoch 8/40\n",
            "131/131 [==============================] - 2s 12ms/step - loss: 17.6847 - val_loss: 16.1904\n",
            "Epoch 9/40\n",
            "131/131 [==============================] - 2s 12ms/step - loss: 15.1422 - val_loss: 13.9061\n",
            "Epoch 10/40\n",
            "131/131 [==============================] - 2s 12ms/step - loss: 12.9411 - val_loss: 11.9609\n",
            "Epoch 11/40\n",
            "131/131 [==============================] - 2s 12ms/step - loss: 11.0803 - val_loss: 10.3001\n",
            "Epoch 12/40\n",
            "131/131 [==============================] - 2s 12ms/step - loss: 9.4461 - val_loss: 8.8672\n",
            "Epoch 13/40\n",
            "131/131 [==============================] - 2s 12ms/step - loss: 8.0976 - val_loss: 7.7943\n",
            "Epoch 14/40\n",
            "131/131 [==============================] - 2s 12ms/step - loss: 7.0463 - val_loss: 6.9531\n",
            "Epoch 15/40\n",
            "131/131 [==============================] - 2s 12ms/step - loss: 6.4531 - val_loss: 6.4096\n",
            "Epoch 16/40\n",
            "131/131 [==============================] - 2s 12ms/step - loss: 6.0858 - val_loss: 6.1846\n",
            "Epoch 17/40\n",
            "131/131 [==============================] - 2s 12ms/step - loss: 5.9743 - val_loss: 6.0853\n",
            "Epoch 18/40\n",
            "131/131 [==============================] - 2s 12ms/step - loss: 5.8688 - val_loss: 6.0491\n",
            "Epoch 19/40\n",
            "131/131 [==============================] - 2s 12ms/step - loss: 5.8733 - val_loss: 6.0058\n",
            "Epoch 20/40\n",
            "131/131 [==============================] - 2s 12ms/step - loss: 5.8315 - val_loss: 6.0294\n",
            "Epoch 21/40\n",
            "131/131 [==============================] - 2s 12ms/step - loss: 5.8138 - val_loss: 5.9807\n",
            "Epoch 22/40\n",
            "131/131 [==============================] - 2s 12ms/step - loss: 5.7465 - val_loss: 5.9702\n",
            "Epoch 23/40\n",
            "131/131 [==============================] - 2s 12ms/step - loss: 5.6943 - val_loss: 5.9471\n",
            "Epoch 24/40\n",
            "131/131 [==============================] - 2s 12ms/step - loss: 5.7385 - val_loss: 6.0155\n",
            "Epoch 25/40\n",
            "131/131 [==============================] - 2s 12ms/step - loss: 5.6526 - val_loss: 5.9563\n",
            "Epoch 26/40\n",
            "131/131 [==============================] - 2s 12ms/step - loss: 5.7130 - val_loss: 6.2263\n",
            "Epoch 27/40\n",
            "131/131 [==============================] - 2s 12ms/step - loss: 5.7186 - val_loss: 5.9006\n",
            "Epoch 28/40\n",
            "131/131 [==============================] - 2s 12ms/step - loss: 5.6451 - val_loss: 5.8848\n",
            "Epoch 29/40\n",
            "131/131 [==============================] - 2s 12ms/step - loss: 5.7367 - val_loss: 5.9029\n",
            "Epoch 30/40\n",
            "131/131 [==============================] - 2s 12ms/step - loss: 5.6955 - val_loss: 5.9112\n",
            "Epoch 31/40\n",
            "131/131 [==============================] - 2s 12ms/step - loss: 5.6391 - val_loss: 5.8994\n",
            "Epoch 32/40\n",
            "131/131 [==============================] - 2s 12ms/step - loss: 5.6173 - val_loss: 5.8532\n",
            "Epoch 33/40\n",
            "131/131 [==============================] - 2s 12ms/step - loss: 5.6631 - val_loss: 5.8713\n",
            "Epoch 34/40\n",
            "131/131 [==============================] - 2s 12ms/step - loss: 5.7272 - val_loss: 5.8388\n",
            "Epoch 35/40\n",
            "131/131 [==============================] - 2s 12ms/step - loss: 5.6519 - val_loss: 5.9147\n",
            "Epoch 36/40\n",
            "131/131 [==============================] - 2s 12ms/step - loss: 5.6635 - val_loss: 5.9319\n",
            "Epoch 37/40\n",
            "131/131 [==============================] - 2s 12ms/step - loss: 5.6462 - val_loss: 5.8670\n",
            "Epoch 38/40\n",
            "131/131 [==============================] - 2s 12ms/step - loss: 5.6610 - val_loss: 5.8389\n",
            "Epoch 39/40\n",
            "131/131 [==============================] - 2s 12ms/step - loss: 5.6684 - val_loss: 5.9067\n",
            "Epoch 40/40\n",
            "131/131 [==============================] - 2s 12ms/step - loss: 5.6781 - val_loss: 5.8718\n"
          ],
          "name": "stdout"
        }
      ]
    },
    {
      "cell_type": "markdown",
      "metadata": {
        "id": "1MKGFMdzSqcc",
        "colab_type": "text"
      },
      "source": [
        "Run the code below to plot your training and validation set MAE vs epoch."
      ]
    },
    {
      "cell_type": "code",
      "metadata": {
        "id": "HNL8jVKoJK56",
        "colab_type": "code",
        "outputId": "780754d9-207d-4f75-9f32-d24f1c6a2118",
        "colab": {
          "base_uri": "https://localhost:8080/",
          "height": 281
        }
      },
      "source": [
        "loss = rnn_history.history['loss']\n",
        "val_loss = rnn_history.history['val_loss']\n",
        "\n",
        "epochs = range(1, len(loss) + 1)\n",
        "\n",
        "plt.figure()\n",
        "\n",
        "plt.plot(epochs, loss, label='Training loss')\n",
        "plt.plot(epochs, val_loss, label='Validation loss')\n",
        "plt.title('Training and validation loss')\n",
        "plt.legend()\n",
        "\n",
        "plt.show()"
      ],
      "execution_count": 0,
      "outputs": [
        {
          "output_type": "display_data",
          "data": {
            "image/png": "[encoded data removed]",
            "text/plain": [
              "<Figure size 432x288 with 1 Axes>"
            ]
          },
          "metadata": {
            "tags": []
          }
        }
      ]
    },
    {
      "cell_type": "markdown",
      "metadata": {
        "id": "IVDBUQQcSwEZ",
        "colab_type": "text"
      },
      "source": [
        "### 2. How does validation set loss for your simple RNN compare to the validation set loss for the baseline approaches?"
      ]
    },
    {
      "cell_type": "markdown",
      "metadata": {
        "id": "6qUuk2NUJSvP",
        "colab_type": "text"
      },
      "source": [
        "Validation set loss for the simple RNN has settled down at a mean absolute error of about 5.9 degrees F.  This is slightly better than the static neural network model."
      ]
    },
    {
      "cell_type": "markdown",
      "metadata": {
        "id": "PaotnCcAJcSa",
        "colab_type": "text"
      },
      "source": [
        "### 3. LSTM Model\n",
        "Try an LSTM model.  This is probably your default/most common choice for an RNN structure.  Add an LSTM layer to the network with 32 units and `input_shape = (None, weather.shape[-1])`  (You could also specify the number of time points per sequence as the first dimension of the input if you want, but this is not necessary.)\n",
        "\n",
        "You will note that this is somewhat slower to train than the simple RNN model."
      ]
    },
    {
      "cell_type": "code",
      "metadata": {
        "id": "Af13RfvUyMtu",
        "colab_type": "code",
        "outputId": "3ad509fd-4019-40b3-8caf-440b7bd88b12",
        "colab": {
          "base_uri": "https://localhost:8080/",
          "height": 1000
        }
      },
      "source": [
        "lstm_model = models.Sequential()\n",
        "lstm_model.add(layers.LSTM(32,\n",
        "  input_shape=(None, weather.shape[-1])))\n",
        "lstm_model.add(layers.Dense(1))\n",
        "\n",
        "lstm_model.compile(optimizer='rmsprop', loss='mae')\n",
        "lstm_history = lstm_model.fit_generator(train_gen,\n",
        "                              steps_per_epoch=train_steps,\n",
        "                              epochs=40,\n",
        "                              validation_data=val_gen,\n",
        "                              validation_steps=val_steps)"
      ],
      "execution_count": 0,
      "outputs": [
        {
          "output_type": "stream",
          "text": [
            "Epoch 1/40\n",
            "131/131 [==============================] - 7s 56ms/step - loss: 44.0492 - val_loss: 39.8034\n",
            "Epoch 2/40\n",
            "131/131 [==============================] - 5s 41ms/step - loss: 37.2169 - val_loss: 34.9752\n",
            "Epoch 3/40\n",
            "131/131 [==============================] - 5s 41ms/step - loss: 33.2631 - val_loss: 31.1001\n",
            "Epoch 4/40\n",
            "131/131 [==============================] - 6s 42ms/step - loss: 29.5894 - val_loss: 27.4425\n",
            "Epoch 5/40\n",
            "131/131 [==============================] - 6s 42ms/step - loss: 26.0706 - val_loss: 24.0597\n",
            "Epoch 6/40\n",
            "131/131 [==============================] - 5s 42ms/step - loss: 22.6948 - val_loss: 21.0106\n",
            "Epoch 7/40\n",
            "131/131 [==============================] - 6s 42ms/step - loss: 19.9674 - val_loss: 18.2517\n",
            "Epoch 8/40\n",
            "131/131 [==============================] - 6s 42ms/step - loss: 17.1002 - val_loss: 15.7587\n",
            "Epoch 9/40\n",
            "131/131 [==============================] - 5s 41ms/step - loss: 14.8977 - val_loss: 13.5977\n",
            "Epoch 10/40\n",
            "131/131 [==============================] - 5s 41ms/step - loss: 12.6692 - val_loss: 11.6517\n",
            "Epoch 11/40\n",
            "131/131 [==============================] - 5s 41ms/step - loss: 10.7887 - val_loss: 10.0207\n",
            "Epoch 12/40\n",
            "131/131 [==============================] - 5s 41ms/step - loss: 9.2682 - val_loss: 8.6128\n",
            "Epoch 13/40\n",
            "131/131 [==============================] - 5s 42ms/step - loss: 8.0090 - val_loss: 7.4906\n",
            "Epoch 14/40\n",
            "131/131 [==============================] - 5s 41ms/step - loss: 6.9808 - val_loss: 6.6443\n",
            "Epoch 15/40\n",
            "131/131 [==============================] - 5s 42ms/step - loss: 6.2403 - val_loss: 6.1776\n",
            "Epoch 16/40\n",
            "131/131 [==============================] - 5s 41ms/step - loss: 5.8457 - val_loss: 5.8816\n",
            "Epoch 17/40\n",
            "131/131 [==============================] - 5s 41ms/step - loss: 5.7086 - val_loss: 5.8664\n",
            "Epoch 18/40\n",
            "131/131 [==============================] - 5s 41ms/step - loss: 5.6497 - val_loss: 5.7584\n",
            "Epoch 19/40\n",
            "131/131 [==============================] - 5s 41ms/step - loss: 5.5946 - val_loss: 5.8355\n",
            "Epoch 20/40\n",
            "131/131 [==============================] - 5s 41ms/step - loss: 5.5090 - val_loss: 5.9600\n",
            "Epoch 21/40\n",
            "131/131 [==============================] - 5s 41ms/step - loss: 5.5122 - val_loss: 5.7699\n",
            "Epoch 22/40\n",
            "131/131 [==============================] - 5s 41ms/step - loss: 5.5192 - val_loss: 5.6896\n",
            "Epoch 23/40\n",
            "131/131 [==============================] - 5s 41ms/step - loss: 5.5003 - val_loss: 5.7060\n",
            "Epoch 24/40\n",
            "131/131 [==============================] - 5s 42ms/step - loss: 5.5439 - val_loss: 5.7597\n",
            "Epoch 25/40\n",
            "131/131 [==============================] - 5s 41ms/step - loss: 5.5380 - val_loss: 5.7210\n",
            "Epoch 26/40\n",
            "131/131 [==============================] - 6s 42ms/step - loss: 5.4617 - val_loss: 5.6941\n",
            "Epoch 27/40\n",
            "131/131 [==============================] - 5s 42ms/step - loss: 5.5208 - val_loss: 5.6701\n",
            "Epoch 28/40\n",
            "131/131 [==============================] - 5s 41ms/step - loss: 5.5117 - val_loss: 5.6692\n",
            "Epoch 29/40\n",
            "131/131 [==============================] - 5s 41ms/step - loss: 5.5065 - val_loss: 5.6958\n",
            "Epoch 30/40\n",
            "131/131 [==============================] - 5s 41ms/step - loss: 5.4423 - val_loss: 5.7386\n",
            "Epoch 31/40\n",
            "131/131 [==============================] - 5s 41ms/step - loss: 5.5002 - val_loss: 5.7214\n",
            "Epoch 32/40\n",
            "131/131 [==============================] - 5s 41ms/step - loss: 5.3872 - val_loss: 5.6742\n",
            "Epoch 33/40\n",
            "131/131 [==============================] - 5s 41ms/step - loss: 5.4439 - val_loss: 5.7527\n",
            "Epoch 34/40\n",
            "131/131 [==============================] - 5s 41ms/step - loss: 5.5025 - val_loss: 5.6933\n",
            "Epoch 35/40\n",
            "131/131 [==============================] - 5s 41ms/step - loss: 5.4469 - val_loss: 5.7012\n",
            "Epoch 36/40\n",
            "131/131 [==============================] - 5s 41ms/step - loss: 5.4583 - val_loss: 5.7092\n",
            "Epoch 37/40\n",
            "131/131 [==============================] - 5s 41ms/step - loss: 5.4253 - val_loss: 5.7039\n",
            "Epoch 38/40\n",
            "131/131 [==============================] - 5s 41ms/step - loss: 5.4198 - val_loss: 5.6821\n",
            "Epoch 39/40\n",
            "131/131 [==============================] - 5s 41ms/step - loss: 5.4482 - val_loss: 5.6946\n",
            "Epoch 40/40\n",
            "131/131 [==============================] - 5s 41ms/step - loss: 5.4058 - val_loss: 5.7074\n"
          ],
          "name": "stdout"
        }
      ]
    },
    {
      "cell_type": "code",
      "metadata": {
        "id": "NToLeaL9Jz-2",
        "colab_type": "code",
        "outputId": "d1051819-828b-4096-e492-0236c65e012b",
        "colab": {
          "base_uri": "https://localhost:8080/",
          "height": 281
        }
      },
      "source": [
        "loss = lstm_history.history['loss']\n",
        "val_loss = lstm_history.history['val_loss']\n",
        "\n",
        "epochs = range(1, len(loss) + 1)\n",
        "\n",
        "plt.figure()\n",
        "\n",
        "plt.plot(epochs, loss, label='Training loss')\n",
        "plt.plot(epochs, val_loss, label='Validation loss')\n",
        "plt.title('Training and validation loss')\n",
        "plt.legend()\n",
        "\n",
        "plt.show()"
      ],
      "execution_count": 0,
      "outputs": [
        {
          "output_type": "display_data",
          "data": {
            "image/png": "[encoded data removed]",
            "text/plain": [
              "<Figure size 432x288 with 1 Axes>"
            ]
          },
          "metadata": {
            "tags": []
          }
        }
      ]
    },
    {
      "cell_type": "markdown",
      "metadata": {
        "id": "A1HPmbBbT0KD",
        "colab_type": "text"
      },
      "source": [
        "### 4. How does validation set loss for your LSTM model compare to the validation set loss for the baseline approaches and simple RNN?"
      ]
    },
    {
      "cell_type": "markdown",
      "metadata": {
        "id": "ICgnc4L-Kij8",
        "colab_type": "text"
      },
      "source": [
        "Validation set loss for the LSTM model settled down at a mean absolute error of about 5.7 degrees F.  This is again a slight improvement over the simple RNN model."
      ]
    },
    {
      "cell_type": "markdown",
      "metadata": {
        "id": "okvWHk6LRDgs",
        "colab_type": "text"
      },
      "source": [
        "### 5. GRU Model\n",
        "\n",
        "Try a GRU model.  This is a little less common than LSTM, but still worth checking out.  Add a GRU layer to the network with 32 units and `input_shape = (None, weather.shape[-1])`  (You could also specify the number of time points per sequence as the first dimension of the input if you want, but this is not necessary.)"
      ]
    },
    {
      "cell_type": "code",
      "metadata": {
        "id": "d_r8xqhdXhOc",
        "colab_type": "code",
        "outputId": "8bf4f9ec-a165-4e5f-f009-a0416a77c58b",
        "colab": {
          "base_uri": "https://localhost:8080/",
          "height": 1000
        }
      },
      "source": [
        "gru_model = models.Sequential()\n",
        "gru_model.add(layers.GRU(32, input_shape=(None, weather.shape[-1])))\n",
        "gru_model.add(layers.Dense(1))\n",
        "\n",
        "gru_model.compile(optimizer='rmsprop', loss='mae')\n",
        "gru_history = gru_model.fit_generator(train_gen,\n",
        "                              steps_per_epoch=train_steps,\n",
        "                              epochs=40,\n",
        "                              validation_data=val_gen,\n",
        "                              validation_steps=val_steps)"
      ],
      "execution_count": 0,
      "outputs": [
        {
          "output_type": "stream",
          "text": [
            "Epoch 1/40\n",
            "131/131 [==============================] - 7s 50ms/step - loss: 45.4447 - val_loss: 40.6254\n",
            "Epoch 2/40\n",
            "131/131 [==============================] - 4s 33ms/step - loss: 38.3114 - val_loss: 36.1199\n",
            "Epoch 3/40\n",
            "131/131 [==============================] - 4s 33ms/step - loss: 34.2460 - val_loss: 32.0743\n",
            "Epoch 4/40\n",
            "131/131 [==============================] - 4s 34ms/step - loss: 30.4712 - val_loss: 28.2395\n",
            "Epoch 5/40\n",
            "131/131 [==============================] - 4s 33ms/step - loss: 26.7084 - val_loss: 24.7070\n",
            "Epoch 6/40\n",
            "131/131 [==============================] - 4s 33ms/step - loss: 23.3998 - val_loss: 21.5359\n",
            "Epoch 7/40\n",
            "131/131 [==============================] - 4s 34ms/step - loss: 20.4944 - val_loss: 18.6523\n",
            "Epoch 8/40\n",
            "131/131 [==============================] - 4s 34ms/step - loss: 17.5577 - val_loss: 16.0713\n",
            "Epoch 9/40\n",
            "131/131 [==============================] - 5s 35ms/step - loss: 14.8704 - val_loss: 13.7629\n",
            "Epoch 10/40\n",
            "131/131 [==============================] - 4s 34ms/step - loss: 12.7854 - val_loss: 11.7484\n",
            "Epoch 11/40\n",
            "131/131 [==============================] - 4s 34ms/step - loss: 10.9128 - val_loss: 10.0440\n",
            "Epoch 12/40\n",
            "131/131 [==============================] - 4s 34ms/step - loss: 9.2190 - val_loss: 8.6234\n",
            "Epoch 13/40\n",
            "131/131 [==============================] - 4s 34ms/step - loss: 7.8679 - val_loss: 7.5071\n",
            "Epoch 14/40\n",
            "131/131 [==============================] - 4s 34ms/step - loss: 6.9095 - val_loss: 6.6534\n",
            "Epoch 15/40\n",
            "131/131 [==============================] - 4s 33ms/step - loss: 6.2088 - val_loss: 6.1670\n",
            "Epoch 16/40\n",
            "131/131 [==============================] - 4s 33ms/step - loss: 5.8751 - val_loss: 5.9135\n",
            "Epoch 17/40\n",
            "131/131 [==============================] - 4s 34ms/step - loss: 5.7134 - val_loss: 5.8195\n",
            "Epoch 18/40\n",
            "131/131 [==============================] - 4s 33ms/step - loss: 5.6236 - val_loss: 5.7901\n",
            "Epoch 19/40\n",
            "131/131 [==============================] - 4s 33ms/step - loss: 5.6179 - val_loss: 5.7367\n",
            "Epoch 20/40\n",
            "131/131 [==============================] - 4s 33ms/step - loss: 5.5384 - val_loss: 5.7388\n",
            "Epoch 21/40\n",
            "131/131 [==============================] - 4s 33ms/step - loss: 5.4814 - val_loss: 5.7232\n",
            "Epoch 22/40\n",
            "131/131 [==============================] - 4s 33ms/step - loss: 5.5184 - val_loss: 5.6990\n",
            "Epoch 23/40\n",
            "131/131 [==============================] - 4s 34ms/step - loss: 5.4705 - val_loss: 5.7021\n",
            "Epoch 24/40\n",
            "131/131 [==============================] - 4s 33ms/step - loss: 5.4862 - val_loss: 5.7171\n",
            "Epoch 25/40\n",
            "131/131 [==============================] - 4s 33ms/step - loss: 5.4544 - val_loss: 5.6706\n",
            "Epoch 26/40\n",
            "131/131 [==============================] - 4s 33ms/step - loss: 5.4578 - val_loss: 5.6739\n",
            "Epoch 27/40\n",
            "131/131 [==============================] - 4s 34ms/step - loss: 5.4292 - val_loss: 5.6712\n",
            "Epoch 28/40\n",
            "131/131 [==============================] - 4s 34ms/step - loss: 5.4242 - val_loss: 5.6652\n",
            "Epoch 29/40\n",
            "131/131 [==============================] - 4s 34ms/step - loss: 5.4696 - val_loss: 5.6481\n",
            "Epoch 30/40\n",
            "131/131 [==============================] - 4s 33ms/step - loss: 5.4785 - val_loss: 5.6760\n",
            "Epoch 31/40\n",
            "131/131 [==============================] - 4s 33ms/step - loss: 5.3360 - val_loss: 5.6510\n",
            "Epoch 32/40\n",
            "131/131 [==============================] - 4s 33ms/step - loss: 5.4966 - val_loss: 5.7107\n",
            "Epoch 33/40\n",
            "131/131 [==============================] - 4s 34ms/step - loss: 5.4267 - val_loss: 5.6043\n",
            "Epoch 34/40\n",
            "131/131 [==============================] - 4s 33ms/step - loss: 5.4544 - val_loss: 5.7270\n",
            "Epoch 35/40\n",
            "131/131 [==============================] - 4s 33ms/step - loss: 5.4265 - val_loss: 5.6512\n",
            "Epoch 36/40\n",
            "131/131 [==============================] - 4s 34ms/step - loss: 5.3755 - val_loss: 5.6294\n",
            "Epoch 37/40\n",
            "131/131 [==============================] - 5s 34ms/step - loss: 5.4596 - val_loss: 5.6198\n",
            "Epoch 38/40\n",
            "131/131 [==============================] - 4s 33ms/step - loss: 5.3581 - val_loss: 5.6263\n",
            "Epoch 39/40\n",
            "131/131 [==============================] - 4s 34ms/step - loss: 5.4050 - val_loss: 5.6329\n",
            "Epoch 40/40\n",
            "131/131 [==============================] - 4s 34ms/step - loss: 5.4139 - val_loss: 5.6061\n"
          ],
          "name": "stdout"
        }
      ]
    },
    {
      "cell_type": "code",
      "metadata": {
        "id": "s_s1Id8xudyj",
        "colab_type": "code",
        "outputId": "4592518d-3ff3-4eef-8832-44da6976f824",
        "colab": {
          "base_uri": "https://localhost:8080/",
          "height": 281
        }
      },
      "source": [
        "loss = gru_history.history['loss']\n",
        "val_loss = gru_history.history['val_loss']\n",
        "\n",
        "epochs = range(1, len(loss) + 1)\n",
        "\n",
        "plt.figure()\n",
        "\n",
        "plt.plot(epochs, loss, label='Training loss')\n",
        "plt.plot(epochs, val_loss, label='Validation loss')\n",
        "plt.title('Training and validation loss')\n",
        "plt.legend()\n",
        "\n",
        "plt.show()"
      ],
      "execution_count": 0,
      "outputs": [
        {
          "output_type": "display_data",
          "data": {
            "image/png": "[encoded data removed]",
            "text/plain": [
              "<Figure size 432x288 with 1 Axes>"
            ]
          },
          "metadata": {
            "tags": []
          }
        }
      ]
    },
    {
      "cell_type": "code",
      "metadata": {
        "id": "-jRTofg23_44",
        "colab_type": "code",
        "colab": {}
      },
      "source": [
        "gru_model = models.Sequential()\n",
        "gru_model.add(layers.GRU(32, input_shape=(None, weather.shape[-1])))\n",
        "gru_model.add(layers.Dense(1))\n",
        "\n",
        "gru_model.compile(optimizer='rmsprop', loss='mae')\n",
        "history = gru_model.fit_generator(train_gen,\n",
        "                              steps_per_epoch=train_steps,\n",
        "                              epochs=40,\n",
        "                              validation_data=val_gen,\n",
        "                              validation_steps=val_steps)"
      ],
      "execution_count": 0,
      "outputs": []
    },
    {
      "cell_type": "markdown",
      "metadata": {
        "id": "LxNVCbtuUFN7",
        "colab_type": "text"
      },
      "source": [
        "### 6. How does validation set loss for your GRU model compare to the validation set loss for the baseline approaches, RNN, and LSTM model above?"
      ]
    },
    {
      "cell_type": "markdown",
      "metadata": {
        "id": "8AJaKQkGLndE",
        "colab_type": "text"
      },
      "source": [
        "The GRU is the best of the models we've looked at."
      ]
    },
    {
      "cell_type": "markdown",
      "metadata": {
        "id": "jGfVipdAUYUv",
        "colab_type": "text"
      },
      "source": [
        "### 7. Pick your favorite of the models you've tried so far.  Refit it to the combined training and validation sets, and obtain a test set MAE.\n",
        "You will need to create a new generator by calling the `generator()` function defined above."
      ]
    },
    {
      "cell_type": "code",
      "metadata": {
        "id": "1Lc7l_y_uwWN",
        "colab_type": "code",
        "colab": {}
      },
      "source": [
        "# create your generator.  You just need to specify the min and max indices.\n",
        "train_val_gen = generator(weather,\n",
        "                      lookback=30,\n",
        "                      delay=1,\n",
        "                      min_index=0,\n",
        "                      max_index=22528,\n",
        "                      shuffle=True,\n",
        "                      step=1,\n",
        "                      batch_size=128)"
      ],
      "execution_count": 0,
      "outputs": []
    },
    {
      "cell_type": "markdown",
      "metadata": {
        "id": "DDD6T-1sVLwk",
        "colab_type": "text"
      },
      "source": [
        "Now fit your model.  You will need to set `steps_per_epoch = train_steps + val_steps` since you've combined the training and validation set data."
      ]
    },
    {
      "cell_type": "code",
      "metadata": {
        "id": "pT8sWqzHTHaO",
        "colab_type": "code",
        "outputId": "36c0a6aa-8c55-40e7-c8f3-91d4a88fed6e",
        "colab": {
          "base_uri": "https://localhost:8080/",
          "height": 1000
        }
      },
      "source": [
        "gru_model = models.Sequential()\n",
        "gru_model.add(layers.GRU(32, input_shape=(None, weather.shape[-1])))\n",
        "gru_model.add(layers.Dense(1))\n",
        "\n",
        "gru_model.compile(optimizer='rmsprop', loss='mae')\n",
        "history = gru_model.fit_generator(train_val_gen,\n",
        "                              steps_per_epoch=train_steps + val_steps,\n",
        "                              epochs=40)"
      ],
      "execution_count": 0,
      "outputs": [
        {
          "output_type": "stream",
          "text": [
            "Epoch 1/40\n",
            "174/174 [==============================] - 9s 52ms/step - loss: 43.4224\n",
            "Epoch 2/40\n",
            "174/174 [==============================] - 6s 32ms/step - loss: 35.7554\n",
            "Epoch 3/40\n",
            "174/174 [==============================] - 6s 32ms/step - loss: 30.6685\n",
            "Epoch 4/40\n",
            "174/174 [==============================] - 6s 32ms/step - loss: 25.7333\n",
            "Epoch 5/40\n",
            "174/174 [==============================] - 6s 33ms/step - loss: 21.5813\n",
            "Epoch 6/40\n",
            "174/174 [==============================] - 6s 33ms/step - loss: 17.8288\n",
            "Epoch 7/40\n",
            "174/174 [==============================] - 6s 32ms/step - loss: 14.4717\n",
            "Epoch 8/40\n",
            "174/174 [==============================] - 6s 33ms/step - loss: 11.7554\n",
            "Epoch 9/40\n",
            "174/174 [==============================] - 6s 32ms/step - loss: 9.4691\n",
            "Epoch 10/40\n",
            "174/174 [==============================] - 6s 32ms/step - loss: 7.7445\n",
            "Epoch 11/40\n",
            "174/174 [==============================] - 6s 32ms/step - loss: 6.6037\n",
            "Epoch 12/40\n",
            "174/174 [==============================] - 6s 32ms/step - loss: 5.9505\n",
            "Epoch 13/40\n",
            "174/174 [==============================] - 6s 32ms/step - loss: 5.7519\n",
            "Epoch 14/40\n",
            "174/174 [==============================] - 5s 32ms/step - loss: 5.6761\n",
            "Epoch 15/40\n",
            "174/174 [==============================] - 6s 32ms/step - loss: 5.6214\n",
            "Epoch 16/40\n",
            "174/174 [==============================] - 5s 31ms/step - loss: 5.5231\n",
            "Epoch 17/40\n",
            "174/174 [==============================] - 6s 32ms/step - loss: 5.5777\n",
            "Epoch 18/40\n",
            "174/174 [==============================] - 5s 32ms/step - loss: 5.5457\n",
            "Epoch 19/40\n",
            "174/174 [==============================] - 5s 32ms/step - loss: 5.5225\n",
            "Epoch 20/40\n",
            "174/174 [==============================] - 5s 31ms/step - loss: 5.5400\n",
            "Epoch 21/40\n",
            "174/174 [==============================] - 6s 32ms/step - loss: 5.5575\n",
            "Epoch 22/40\n",
            "174/174 [==============================] - 5s 31ms/step - loss: 5.5415\n",
            "Epoch 23/40\n",
            "174/174 [==============================] - 5s 32ms/step - loss: 5.4699\n",
            "Epoch 24/40\n",
            "174/174 [==============================] - 5s 31ms/step - loss: 5.4781\n",
            "Epoch 25/40\n",
            "174/174 [==============================] - 5s 31ms/step - loss: 5.5044\n",
            "Epoch 26/40\n",
            "174/174 [==============================] - 6s 32ms/step - loss: 5.5236\n",
            "Epoch 27/40\n",
            "174/174 [==============================] - 6s 32ms/step - loss: 5.4026\n",
            "Epoch 28/40\n",
            "174/174 [==============================] - 5s 31ms/step - loss: 5.4939\n",
            "Epoch 29/40\n",
            "174/174 [==============================] - 6s 32ms/step - loss: 5.4677\n",
            "Epoch 30/40\n",
            "174/174 [==============================] - 6s 32ms/step - loss: 5.4587\n",
            "Epoch 31/40\n",
            "174/174 [==============================] - 6s 32ms/step - loss: 5.4469\n",
            "Epoch 32/40\n",
            "174/174 [==============================] - 6s 32ms/step - loss: 5.4353\n",
            "Epoch 33/40\n",
            "174/174 [==============================] - 6s 32ms/step - loss: 5.4712\n",
            "Epoch 34/40\n",
            "174/174 [==============================] - 6s 32ms/step - loss: 5.4281\n",
            "Epoch 35/40\n",
            "174/174 [==============================] - 5s 31ms/step - loss: 5.5327\n",
            "Epoch 36/40\n",
            "174/174 [==============================] - 5s 31ms/step - loss: 5.4729\n",
            "Epoch 37/40\n",
            "174/174 [==============================] - 6s 32ms/step - loss: 5.4649\n",
            "Epoch 38/40\n",
            "174/174 [==============================] - 6s 32ms/step - loss: 5.4262\n",
            "Epoch 39/40\n",
            "174/174 [==============================] - 5s 31ms/step - loss: 5.4120\n",
            "Epoch 40/40\n",
            "174/174 [==============================] - 5s 31ms/step - loss: 5.4270\n"
          ],
          "name": "stdout"
        }
      ]
    },
    {
      "cell_type": "markdown",
      "metadata": {
        "id": "u9mNF4GQVddz",
        "colab_type": "text"
      },
      "source": [
        "Evaluate your model's performance on the test set using the evaluate_generator function."
      ]
    },
    {
      "cell_type": "code",
      "metadata": {
        "id": "vp-aYTlmVcr1",
        "colab_type": "code",
        "outputId": "d512cfc2-a5aa-426f-9adb-1e7bdf0aac7c",
        "colab": {
          "base_uri": "https://localhost:8080/",
          "height": 35
        }
      },
      "source": [
        "gru_model.evaluate_generator(test_gen, steps=tes_steps)"
      ],
      "execution_count": 0,
      "outputs": [
        {
          "output_type": "execute_result",
          "data": {
            "text/plain": [
              "5.4872979039237615"
            ]
          },
          "metadata": {
            "tags": []
          },
          "execution_count": 79
        }
      ]
    }
  ]
}